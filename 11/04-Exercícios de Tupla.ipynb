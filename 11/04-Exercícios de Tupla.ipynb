{
 "cells": [
  {
   "cell_type": "markdown",
   "metadata": {},
   "source": [
    "# Exercícios\n",
    "\n",
    "São exercícios bem parecidos com os que fizemos com listas. Mas na tupla, podemos não só trabalhar com índices, mas fazer o \"unpacking\" das tuplas, o que pode facilitar nossos códigos.\n",
    "\n",
    "## 1. Análise de Vendas\n",
    "\n",
    "Nesse exercício vamos fazer uma \"análise simples\" de atingimento de Meta.\n",
    "\n",
    "Temos uma lista com os vendedores e os valores de vendas e queremos identificar (printar) quais os vendedores que bateram a meta e qual foi o valor que eles venderam."
   ]
  },
  {
   "cell_type": "code",
   "execution_count": 1,
   "metadata": {},
   "outputs": [
    {
     "name": "stdout",
     "output_type": "stream",
     "text": [
      "João bateu a meta e vendeu R$15000\n",
      "Julia bateu a meta e vendeu R$27000\n",
      "Ana bateu a meta e vendeu R$10300\n"
     ]
    }
   ],
   "source": [
    "meta = 10000\n",
    "vendas = [\n",
    "    ('João', 15000),\n",
    "    ('Julia', 27000),\n",
    "    ('Marcus', 9900),\n",
    "    ('Maria', 3750),\n",
    "    ('Ana', 10300),\n",
    "    ('Alon', 7870),\n",
    "]\n",
    "\n",
    "for item in (vendas):\n",
    "    nome, venda = item\n",
    "    if venda > meta:\n",
    "        print('{} bateu a meta e vendeu R${}'.format(nome,venda))"
   ]
  },
  {
   "cell_type": "markdown",
   "metadata": {},
   "source": [
    "## 2. Comparação com Ano Anterior\n",
    "\n",
    "Digamos que você está analisando as vendas de produtos de um ecommerce e quer identificar quais produtos tiveram no ano de 2020 mais vendas do que no ano de 2019, para reportar isso para a diretoria.\n",
    "\n",
    "Sua resposta pode ser um print de cada produto, qual foi a venda de 2019, a venda de 2020 e o % de crescimento de 2020 para 2019.\n",
    "\n",
    "Lembrando, para calcular o % de crescimento de um produto de um ano para o outro, podemos fazer: (vendas_produto2020/vendas_produto2019 - 1)\n",
    "\n",
    "A lógica da tupla é: (produto, vendas2019, vendas2020)"
   ]
  },
  {
   "cell_type": "code",
   "execution_count": 8,
   "metadata": {},
   "outputs": [
    {
     "name": "stdout",
     "output_type": "stream",
     "text": [
      "IPHONE em 2019 vendemos 558147 em 2020 951642, tivemos um crescimento de 70.5%\n",
      "TV em 2019 vendemos 405252 em 2020 787604, tivemos um crescimento de 94.3%\n",
      "MÁQUINA DE CAFÉ em 2019 vendemos 718654 em 2020 867660, tivemos um crescimento de 20.7%\n",
      "NOTEBOOK DELL em 2019 vendemos 422760 em 2020 694913, tivemos um crescimento de 64.4%\n",
      "NOTEBOOK HP em 2019 vendemos 154753 em 2020 539704, tivemos um crescimento de 248.8%\n",
      "MICROSOFT SURFACE em 2019 vendemos 438508 em 2020 667179, tivemos um crescimento de 52.1%\n",
      "WEBCAM em 2019 vendemos 237467 em 2020 295633, tivemos um crescimento de 24.5%\n",
      "CAIXA DE SOM em 2019 vendemos 489705 em 2020 725316, tivemos um crescimento de 48.1%\n",
      "MICROFONE em 2019 vendemos 328311 em 2020 644622, tivemos um crescimento de 96.3%\n",
      "CÂMERA CANON em 2019 vendemos 591120 em 2020 994303, tivemos um crescimento de 68.2%\n"
     ]
    }
   ],
   "source": [
    "vendasProdutos = [('iphone', 558147, 951642), ('galaxy', 712350, 244295), ('ipad', 573823, 26964), ('tv', 405252, 787604), ('máquina de café', 718654, 867660), ('kindle', 531580, 78830), ('geladeira', 973139, 710331), ('adega', 892292, 646016), ('notebook dell', 422760, 694913), ('notebook hp', 154753, 539704), ('notebook asus', 887061, 324831), ('microsoft surface', 438508, 667179), ('webcam', 237467, 295633), ('caixa de som', 489705, 725316), ('microfone', 328311, 644622), ('câmera canon', 591120, 994303)]\n",
    "\n",
    "for item in vendasProdutos:\n",
    "    produto, venda19,venda20 = item\n",
    "    if venda20 > venda19:\n",
    "        percCrescimento = (venda20/venda19)-1\n",
    "        print('{} em 2019 vendemos {} em 2020 {}, tivemos um crescimento de {:.1%}'.format(produto.upper(),venda19,venda20,percCrescimento))\n"
   ]
  }
 ],
 "metadata": {
  "kernelspec": {
   "display_name": "Python 3",
   "language": "python",
   "name": "python3"
  },
  "language_info": {
   "codemirror_mode": {
    "name": "ipython",
    "version": 3
   },
   "file_extension": ".py",
   "mimetype": "text/x-python",
   "name": "python",
   "nbconvert_exporter": "python",
   "pygments_lexer": "ipython3",
   "version": "3.13.1"
  }
 },
 "nbformat": 4,
 "nbformat_minor": 4
}
