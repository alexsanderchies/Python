{
 "cells": [
  {
   "cell_type": "markdown",
   "metadata": {},
   "source": [
    "# Exercícios\n",
    "\n",
    "## 1. Faturamento do Melhor e do Pior Mês do Ano\n",
    "\n",
    "Qual foi o valor de vendas do melhor mês do Ano?\n",
    "E valor do pior mês do ano?"
   ]
  },
  {
   "cell_type": "code",
   "execution_count": 39,
   "metadata": {},
   "outputs": [
    {
     "name": "stdout",
     "output_type": "stream",
     "text": [
      "49051\n",
      "9650\n"
     ]
    }
   ],
   "source": [
    "meses = ['jan', 'fev', 'mar', 'abr', 'mai', 'jun', 'jul', 'ago', 'set', 'out', 'nov', 'dez']\n",
    "vendas_1sem = [25000, 29000, 22200, 17750, 15870, 19900]\n",
    "vendas_2sem = [19850, 20120, 17540, 15555, 49051, 9650]\n",
    "vendasAno = vendas_1sem + vendas_2sem\n",
    "\n",
    "qtdeMaisVendas = max(vendasAno)\n",
    "print(qtdeMaisVendas)\n",
    "qtdeMenosVendas = min(vendasAno)\n",
    "print(qtdeMenosVendas)"
   ]
  },
  {
   "cell_type": "markdown",
   "metadata": {},
   "source": [
    "## 2. Continuação\n",
    "\n",
    "Agora relacione as duas listas para printar 'O melhor mês do ano foi {} com {} vendas' e o mesmo para o pior mês do ano.\n",
    "\n",
    "Calcule também o faturamento total do Ano e quanto que o melhor mês representou do faturamento total.\n",
    "\n",
    "Obs: Para o faturamento total, pode usar a função sum(lista) que soma todos os itens de uma lista"
   ]
  },
  {
   "cell_type": "code",
   "execution_count": 24,
   "metadata": {},
   "outputs": [
    {
     "name": "stdout",
     "output_type": "stream",
     "text": [
      "O melhor mês de vendas foi NOV com 49051 unidades vendidas\n",
      "O melhor mês de vendas foi DEZ com 9650 unidades vendidas\n",
      "O faturamento total foi de 261486\n",
      "O melhor mes representou 18.8% das vendas do ano todo\n"
     ]
    }
   ],
   "source": [
    "qtdeMaisVendas = max(vendasAno)\n",
    "i = vendasAno.index(qtdeMaisVendas)\n",
    "mesMaisVendas = meses[i]\n",
    "print('O melhor mês de vendas foi {} com {} unidades vendidas'.format(mesMaisVendas.upper(),qtdeMaisVendas))\n",
    "\n",
    "qtdeMenosVendas = min(vendasAno)\n",
    "i = vendasAno.index(qtdeMenosVendas)\n",
    "mesMenosVendas = meses[i]\n",
    "print('O melhor mês de vendas foi {} com {} unidades vendidas'.format(mesMenosVendas.upper(),qtdeMenosVendas))\n",
    "\n",
    "fatTotal = sum(vendasAno)\n",
    "print('O faturamento total foi de {}'.format(fatTotal))\n",
    "\n",
    "percMelhorMed = (qtdeMaisVendas / fatTotal)\n",
    "print('O melhor mes representou {:.1%} das vendas do ano todo'.format(percMelhorMed))"
   ]
  },
  {
   "cell_type": "markdown",
   "metadata": {},
   "source": [
    "## 3. Crie uma lista com o top 3 valores de vendas do ano (sem fazer \"no olho\")\n",
    "\n",
    "Dica: o método remove retira um item da lista."
   ]
  },
  {
   "cell_type": "code",
   "execution_count": 40,
   "metadata": {},
   "outputs": [
    {
     "name": "stdout",
     "output_type": "stream",
     "text": [
      "[49051, 29000, 25000]\n"
     ]
    }
   ],
   "source": [
    "podio = []\n",
    "\n",
    "maiorValor = max(vendasAno)\n",
    "podio.append(maiorValor)\n",
    "vendasAno.remove(maiorValor)\n",
    "\n",
    "maiorValor = max(vendasAno)\n",
    "podio.append(maiorValor)\n",
    "vendasAno.remove(maiorValor)\n",
    "\n",
    "maiorValor = max(vendasAno)\n",
    "podio.append(maiorValor)\n",
    "vendasAno.remove(maiorValor)\n",
    "\n",
    "print (podio)"
   ]
  }
 ],
 "metadata": {
  "kernelspec": {
   "display_name": "Python 3",
   "language": "python",
   "name": "python3"
  },
  "language_info": {
   "codemirror_mode": {
    "name": "ipython",
    "version": 3
   },
   "file_extension": ".py",
   "mimetype": "text/x-python",
   "name": "python",
   "nbconvert_exporter": "python",
   "pygments_lexer": "ipython3",
   "version": "3.13.1"
  }
 },
 "nbformat": 4,
 "nbformat_minor": 4
}
