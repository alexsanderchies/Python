{
 "cells": [
  {
   "cell_type": "markdown",
   "metadata": {},
   "source": [
    "# Adicionar e Remover itens de uma lista\n",
    "\n",
    "Adicionar:<br>\n",
    "lista.append(item)\n",
    "\n",
    "Remover:<br>\n",
    "item_removido = lista.pop(indice)<br>\n",
    "lista.remove(item)\n",
    "\n",
    "Digamos que você está construindo o controle de produtos da Apple.<br>\n",
    "E a Apple lançou o IPhone 11 e irá tirar dos seus estoques o IPhone X"
   ]
  },
  {
   "cell_type": "code",
   "execution_count": 13,
   "metadata": {},
   "outputs": [
    {
     "name": "stdout",
     "output_type": "stream",
     "text": [
      "['apple tv', 'mac', 'iphone x', 'IPad', 'apple watch', 'mac book', 'airpods']\n",
      "['apple tv', 'mac', 'iphone x', 'IPad', 'apple watch', 'mac book', 'airpods', 'Iphone 11']\n",
      "['apple tv', 'mac', 'iphone x', 'IPad', 'apple watch', 'mac book', 'airpods', 'Iphone 11']\n",
      "['apple tv', 'mac', 'IPad', 'apple watch', 'mac book', 'airpods', 'Iphone 11']\n",
      "['apple tv', 'mac', 'apple watch', 'mac book', 'airpods', 'Iphone 11']\n",
      "Removemos o IPad da lista\n",
      "Produto iphonex não encontrato\n"
     ]
    }
   ],
   "source": [
    "produtos = ['apple tv', 'mac', 'iphone x', 'IPad', 'apple watch', 'mac book', 'airpods']\n",
    "\n",
    "#adicionar iphone 11\n",
    "print(produtos)\n",
    "produtos.append('Iphone 11')\n",
    "print(produtos)\n",
    "\n",
    "\n",
    "#remover iphone 11\n",
    "print(produtos)\n",
    "produtos.remove('iphone x')     #forma 1\n",
    "print(produtos)\n",
    "\n",
    "itemRemovido = produtos.pop(2)  #forma 2\n",
    "print(produtos)\n",
    "print('Removemos o {} da lista' .format(itemRemovido))\n",
    "\n",
    "produtoRemover = 'iphonex'\n",
    "\n",
    "if produtoRemover in produtos:\n",
    "    produtos.remove(produtoRemover)\n",
    "else:\n",
    "    print('Produto {} não encontrato' .format(produtoRemover))\n"
   ]
  },
  {
   "cell_type": "markdown",
   "metadata": {},
   "source": [
    "## Existem 2 formas de tratar o erro:\n",
    "\n",
    "1. Criar um if para evitar que ele aconteça\n",
    "\n",
    "2. Esperar que ele possa acontecer e tratar caso o erro aconteça com:"
   ]
  },
  {
   "cell_type": "raw",
   "metadata": {
    "vscode": {
     "languageId": "raw"
    }
   },
   "source": [
    "try:\n",
    "    tentar fazer\n",
    "except:\n",
    "    caso dê errado"
   ]
  },
  {
   "cell_type": "code",
   "execution_count": 16,
   "metadata": {},
   "outputs": [
    {
     "name": "stdout",
     "output_type": "stream",
     "text": [
      "Produto mac não encontrato\n"
     ]
    }
   ],
   "source": [
    "try:    \n",
    "    produtos.remove('mac')\n",
    "    print(produtos)\n",
    "except:\n",
    "    print('Produto mac não encontrato')"
   ]
  }
 ],
 "metadata": {
  "kernelspec": {
   "display_name": "Python 3",
   "language": "python",
   "name": "python3"
  },
  "language_info": {
   "codemirror_mode": {
    "name": "ipython",
    "version": 3
   },
   "file_extension": ".py",
   "mimetype": "text/x-python",
   "name": "python",
   "nbconvert_exporter": "python",
   "pygments_lexer": "ipython3",
   "version": "3.13.1"
  }
 },
 "nbformat": 4,
 "nbformat_minor": 4
}
