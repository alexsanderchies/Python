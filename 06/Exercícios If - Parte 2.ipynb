{
 "cells": [
  {
   "cell_type": "markdown",
   "metadata": {},
   "source": [
    "# Exercícios"
   ]
  },
  {
   "cell_type": "markdown",
   "metadata": {},
   "source": [
    "## 1. Criando um mini sistema de controle de estoque\n",
    "\n",
    "- Crie um sistema para ser usado pelo time de controle de estoque de um centro de distribuição.\n",
    "- Imagine que ao fim de todo dia, o time conta quantas unidades de produto existem no estoque. Se tivermos um estoque abaixo do estoque permitido para aquela categoria do produto, o time deve ser avisado (print) para fazer um novo pedido daquele produto.\n",
    "- Cada categoria de produto tem um estoque mínimo diferente, segundo a regra abaixo:\n",
    "\n",
    "- alimentos -> Estoque mínimo: 50\n",
    "- bebidas -> Estoque mínimo: 75\n",
    "- limpeza -> Estoque mínimo: 30\n",
    "\n",
    "Para isso vamos criar um programa que pede 3 inputs do usuário: nome do produto, categoria e quantidade atual em estoque.\n",
    "\n",
    "Se o produto tiver abaixo do estoque mínimo da categoria dele, o programa deve printar a mensagem \"Solicitar {produto} à equipe de compras, temos apenas {unidades} em estoque\"\n",
    "\n",
    "Exemplo: Se o usuário preenche os inputs com: bebidas, dolly, 90, o programa não deve exibir nenhuma mensagem.<br>\n",
    "Agora, se o usuário preenche os inputs com: bebidas, guaraná, 60, o programa deve exibir a mensagem \"Solicitar guaraná à equipe de compras, temos apenas 60 unidades em estoque.\n",
    "\n",
    "Obs: lembre de usar o int() para transformar o número inserido pelo usuário no input de string para int.<br>\n",
    "Obs2: Caso o usuário não preencha alguma das 3 informações, o programa deve exibir uma mensagem para avisá-lo de preencher corretamente."
   ]
  },
  {
   "cell_type": "code",
   "execution_count": null,
   "metadata": {},
   "outputs": [
    {
     "name": "stdout",
     "output_type": "stream",
     "text": [
      "Digite as informações corretas\n"
     ]
    }
   ],
   "source": [
    "#seu código aqui\n",
    "\n",
    "estoqueMinimoAlimentos = 50\n",
    "estoqueMinimoBebidas = 75\n",
    "estoqueMinimoLimpeza = 30\n",
    "\n",
    "produto = input('Digite o nome do produto:')\n",
    "categoria = input('Digite o nome da categoria:')\n",
    "saldo = input('Digite a quantidade em estoque do produto:')\n",
    "\n",
    "if saldo and categoria and produto:\n",
    "    saldo = int(saldo)\n",
    "    \n",
    "    if categoria == 'Alimentos':\n",
    "        if saldo <= estoqueMinimoAlimentos:\n",
    "            print('Solicitar {} à equipe de compras, temos apenas {} unidades em estoque'.format(produto,saldo))\n",
    "        else:\n",
    "            pass\n",
    "    elif categoria == 'Bebidas':\n",
    "        if saldo <= estoqueMinimoBebidas:\n",
    "            print('Solicitar {} à equipe de compras, temos apenas {} unidades em estoque'.format(produto,saldo))\n",
    "        else:\n",
    "            pass\n",
    "    elif categoria == 'Limpeza':\n",
    "        if saldo <= estoqueMinimoBebidas:\n",
    "            print('Solicitar {} à equipe de compras, temos apenas {} unidades em estoque'.format(produto,saldo))\n",
    "        else:\n",
    "            pass\n",
    "    else:\n",
    "        print('Algum campo foi preenchido incorretamente')    \n",
    "else:\n",
    "    print('Digite as informações corretas')\n"
   ]
  }
 ],
 "metadata": {
  "kernelspec": {
   "display_name": "Python 3",
   "language": "python",
   "name": "python3"
  },
  "language_info": {
   "codemirror_mode": {
    "name": "ipython",
    "version": 3
   },
   "file_extension": ".py",
   "mimetype": "text/x-python",
   "name": "python",
   "nbconvert_exporter": "python",
   "pygments_lexer": "ipython3",
   "version": "3.13.1"
  }
 },
 "nbformat": 4,
 "nbformat_minor": 4
}
